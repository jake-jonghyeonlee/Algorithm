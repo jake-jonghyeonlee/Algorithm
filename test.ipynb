{
 "cells": [
  {
   "cell_type": "code",
   "execution_count": 3,
   "metadata": {},
   "outputs": [
    {
     "name": "stdout",
     "output_type": "stream",
     "text": [
      "([],)\n",
      "['Corey']\n",
      "(['Corey'],)\n"
     ]
    }
   ],
   "source": [
    "\n",
    "\n",
    "def add_employee(emp, emp_list=[]):\n",
    "    emp_list.append(emp)\n",
    "    print(emp_list)\n",
    "\n",
    "print(add_employee.__defaults__)\n",
    "\n",
    "add_employee('Corey')\n",
    "\n",
    "print(add_employee.__defaults__)\n",
    "\n",
    "\n",
    "\n",
    "# emps = ['John', 'Jane']\n",
    "\n",
    "# add_employee('Corey')\n",
    "# add_employee('John')\n",
    "# add_employee('Jane')"
   ]
  },
  {
   "cell_type": "code",
   "execution_count": 7,
   "metadata": {},
   "outputs": [
    {
     "name": "stdout",
     "output_type": "stream",
     "text": [
      "(None,)\n",
      "['Corey', 'Corey', 'Corey', 'Corey']\n",
      "(None,)\n"
     ]
    }
   ],
   "source": [
    "def add_employee_fixed(emp, emp_list=None):\n",
    "    if emp_list is None:\n",
    "        emp_list = []\n",
    "    emp_list.append(emp)\n",
    "    print(emp_list)\n",
    "\n",
    "print(add_employee_fixed.__defaults__)\n",
    "\n",
    "add_employee('Corey')\n",
    "\n",
    "print(add_employee_fixed.__defaults__)\n"
   ]
  },
  {
   "cell_type": "code",
   "execution_count": null,
   "metadata": {},
   "outputs": [],
   "source": []
  }
 ],
 "metadata": {
  "kernelspec": {
   "display_name": "Python 3.10.9 64-bit",
   "language": "python",
   "name": "python3"
  },
  "language_info": {
   "codemirror_mode": {
    "name": "ipython",
    "version": 3
   },
   "file_extension": ".py",
   "mimetype": "text/x-python",
   "name": "python",
   "nbconvert_exporter": "python",
   "pygments_lexer": "ipython3",
   "version": "3.10.9"
  },
  "orig_nbformat": 4,
  "vscode": {
   "interpreter": {
    "hash": "aee8b7b246df8f9039afb4144a1f6fd8d2ca17a180786b69acc140d282b71a49"
   }
  }
 },
 "nbformat": 4,
 "nbformat_minor": 2
}
