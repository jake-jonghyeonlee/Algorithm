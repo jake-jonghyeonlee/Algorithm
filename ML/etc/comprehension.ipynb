{
 "cells": [
  {
   "cell_type": "code",
   "execution_count": 1,
   "metadata": {},
   "outputs": [],
   "source": [
    "import pathlib"
   ]
  },
  {
   "cell_type": "code",
   "execution_count": 2,
   "metadata": {},
   "outputs": [
    {
     "name": "stdout",
     "output_type": "stream",
     "text": [
      "{'A', 'D'}\n"
     ]
    }
   ],
   "source": [
    "s = {v for v in 'ABCDABCD' if v not in 'CB'}\n",
    "print(s)"
   ]
  },
  {
   "cell_type": "code",
   "execution_count": 3,
   "metadata": {},
   "outputs": [
    {
     "data": {
      "text/plain": [
       "{0: 'A', 3: 'D'}"
      ]
     },
     "execution_count": 3,
     "metadata": {},
     "output_type": "execute_result"
    }
   ],
   "source": [
    "s = {key: val for key, val in enumerate('ABCD') if val not in 'CB'}\n",
    "s"
   ]
  },
  {
   "cell_type": "code",
   "execution_count": 4,
   "metadata": {},
   "outputs": [],
   "source": [
    "list = [ 0, 1, 2, 3, 4 ]"
   ]
  },
  {
   "cell_type": "markdown",
   "metadata": {},
   "source": [
    "# 기본 구조 : 표현식 + for문\n",
    "result = [표현식 for 변수 in 리스트]\n",
    "\n",
    "표현식 + for문 + 조건문\n",
    "result = [표현식 for 변수 in 리스트 조건문]\n",
    "\n",
    "조건문 + for문\n",
    "result = [조건문 for 변수 in 리스트]\n",
    "\n",
    "중첩 for문\n",
    "result = [조건문 for 변수1 in 리스트1 for 변수2 in 리스트2 ...]\n",
    "\n",
    "중첩 List Comprehension"
   ]
  },
  {
   "cell_type": "code",
   "execution_count": null,
   "metadata": {},
   "outputs": [],
   "source": [
    "n = 5\n",
    "\n",
    "# n개의 0으로 초기화된 리스트\n",
    "result = [ 0 for i in range(n) ]   # [0, 0, 0, 0, 0]\n",
    "\n",
    "# 0 ~ n으로 초기화된 리스트\n",
    "result = [ i for i in range(n) ]   # [0, 1, 2, 3, 4]\n",
    "\n",
    "# array 리스트의 값을 그대로 복사\n",
    "array = [ 0, 1, 2, 3, 4, 5, 6, 7, 8, 9 ]\n",
    "result = [ n for n in array ]       # [0, 1, 2, 3, 4, 5, 6, 7, 8, 9]"
   ]
  },
  {
   "cell_type": "code",
   "execution_count": null,
   "metadata": {},
   "outputs": [],
   "source": [
    "# array의 제곱값을 구하는 리스트\n",
    "result = [ n*n for n in array ]      # [0, 1, 4, 9, 16, 25, 36, 49, 64, 81]\n",
    "\n",
    "# 문자열 리스트의 각 문자열의 길이를 저장하는 리스트\n",
    "str_array = [ \"List\", \"Comprehension\", \"python\"]  \n",
    "result = [ len(string) for string in str_array]   # [4, 13, 6]\n",
    "\n",
    "# 5로 나눈 나머지를 저장하는 리스트 - 함수 사용\n",
    "def mod_5 (number) :\n",
    "    return number % 5\n",
    "    \n",
    "result = [mod_5(n) for n in array]   # [0, 1, 2, 3, 4, 0, 1, 2, 3, 4]"
   ]
  },
  {
   "cell_type": "code",
   "execution_count": 16,
   "metadata": {},
   "outputs": [
    {
     "name": "stdout",
     "output_type": "stream",
     "text": [
      "a 1 (2, 3) {'key': 2, 'value': 7} [1, 2, 3]\n"
     ]
    }
   ],
   "source": [
    "def hidden_feature_1(a, b, *args, values=[], **kwargs):\n",
    "    print(a, b, args, kwargs, values)\n",
    "    \n",
    "hidden_feature_1(\"a\", 1, 2, 3, key=2, value=7, values=[1,2,3])\n"
   ]
  },
  {
   "cell_type": "code",
   "execution_count": 7,
   "metadata": {},
   "outputs": [
    {
     "name": "stdout",
     "output_type": "stream",
     "text": [
      "15 -2 8\n"
     ]
    }
   ],
   "source": [
    "#Closure\n",
    "def adder(value):\n",
    "    def inner_function(base):\n",
    "        return base+value\n",
    "\n",
    "    return inner_function\n",
    "\n",
    "adder_5 = adder(5)\n",
    "adder_10 = adder(10)\n",
    "\n",
    "result = adder_5(10)\n",
    "result_2 = adder_5(-7)\n",
    "result_3 = adder_10(-2)\n",
    "print(result, result_2, result_3)"
   ]
  },
  {
   "cell_type": "code",
   "execution_count": 9,
   "metadata": {},
   "outputs": [
    {
     "name": "stdout",
     "output_type": "stream",
     "text": [
      "21\n",
      "25\n",
      "3\n",
      "25\n",
      "11\n",
      "7\n"
     ]
    }
   ],
   "source": [
    "# assign to variables:function to a bariable.\n",
    "def function_caller(func, *args, **kwargs):\n",
    "    return func(*args, **kwargs)\n",
    "\n",
    "def add(a, b):\n",
    "    return a + b\n",
    "\n",
    "def pow(base=1, exp=1):\n",
    "    return base**exp\n",
    "\n",
    "result = function_caller(add, 10, 11)\n",
    "print(result)\n",
    "\n",
    "result_2 = function_caller(pow, base=5, exp=2)\n",
    "print(result_2)\n",
    "\n",
    "funcs = [add, pow, add, add]\n",
    "args = [\n",
    "    [(1,2), {}],\n",
    "    [(), {\"base\":5, \"exp\":2}],\n",
    "    [(5,6), {}],\n",
    "    [(3,4), {}]\n",
    "]\n",
    "\n",
    "for func, (args,kwargs) in zip(funcs, args):\n",
    "    result = func(*args, **kwargs)\n",
    "    print(result)"
   ]
  },
  {
   "cell_type": "code",
   "execution_count": 18,
   "metadata": {},
   "outputs": [
    {
     "name": "stdout",
     "output_type": "stream",
     "text": [
      "Function called with ([1, 2, 3, 4, 5], [6, 7, 8, 9, 10]) and {'mod': 2}\n",
      "Result is: [2, 4, 6, 8, 10]\n"
     ]
    },
    {
     "data": {
      "text/plain": [
       "[2, 4, 6, 8, 10]"
      ]
     },
     "execution_count": 18,
     "metadata": {},
     "output_type": "execute_result"
    }
   ],
   "source": [
    "# decorators\n",
    "def function_printer(func):\n",
    "    def modified_func(*args, **kwargs):\n",
    "        print(\"Function called with\", args, \"and\", kwargs)\n",
    "        result = func(*args, **kwargs)\n",
    "        print(\"Result is:\", result)\n",
    "        return result\n",
    "    \n",
    "    return modified_func\n",
    "\n",
    "@function_printer\n",
    "def my_custom_function(lst1, lst2, mod=1):\n",
    "    new_lst = []\n",
    "\n",
    "    for lst in [lst1, lst2]:\n",
    "        for value in lst:\n",
    "            if value % mod == 0:\n",
    "                new_lst.append(value)\n",
    "\n",
    "    return new_lst\n",
    "\n",
    "my_custom_function = function_printer(my_custom_function)\n",
    "my_custom_function([1,2,3,4,5],[6,7,8,9,10], mod=2)\n"
   ]
  },
  {
   "cell_type": "code",
   "execution_count": 22,
   "metadata": {},
   "outputs": [
    {
     "name": "stdout",
     "output_type": "stream",
     "text": [
      "Inner x: 20\n",
      "Inner-inner x: 100\n",
      "Outer x: 100\n"
     ]
    }
   ],
   "source": [
    "# Nonlocal keyword\n",
    "def outer_function():\n",
    "    x = 10\n",
    "\n",
    "    def inner_function():\n",
    "        nonlocal x\n",
    "        x = 20\n",
    "        print(\"Inner x:\", x)\n",
    "        def inner_func_2():\n",
    "            nonlocal x\n",
    "            x = 100\n",
    "            print(\"Inner-inner x:\", x)\n",
    "        inner_func_2()\n",
    "    \n",
    "    inner_function()\n",
    "    print(\"Outer x:\", x)\n",
    "\n",
    "outer_function()"
   ]
  },
  {
   "cell_type": "code",
   "execution_count": 23,
   "metadata": {},
   "outputs": [
    {
     "data": {
      "text/plain": [
       "'hellohello'"
      ]
     },
     "execution_count": 23,
     "metadata": {},
     "output_type": "execute_result"
    }
   ],
   "source": [
    "#Function Annotations\n",
    "def greet(name:str) -> str:\n",
    "    return f\"Hello, {name}!\"\n",
    "\n",
    "def add(x:int, y:int) -> int:\n",
    "    return x + y\n",
    "\n",
    "from typing import List, Tuple, Optional\n",
    "\n",
    "def process_data(data: List[int]) -> Tuple[int, int]:\n",
    "    return (min(data), max(data))\n",
    "\n",
    "def find_max(data: Optional[List[int]] = None) -> Optional[int]:\n",
    "    if data:\n",
    "        return max(data)\n",
    "    return None\n",
    "\n"
   ]
  },
  {
   "cell_type": "markdown",
   "metadata": {},
   "source": [
    " # F12 함수로 이동 alt+F12 미니창\n",
    " # sniffet 설치 Rename function F2\n",
    " # alt+click 멀티커서\n",
    " # ctrl+L 줄 하이라이트\n",
    " # alt+위아래 줄 이동\n",
    " # ctrl+방향키 워프"
   ]
  }
 ],
 "metadata": {
  "kernelspec": {
   "display_name": "Python 3.10.9 64-bit",
   "language": "python",
   "name": "python3"
  },
  "language_info": {
   "codemirror_mode": {
    "name": "ipython",
    "version": 3
   },
   "file_extension": ".py",
   "mimetype": "text/x-python",
   "name": "python",
   "nbconvert_exporter": "python",
   "pygments_lexer": "ipython3",
   "version": "3.10.9"
  },
  "orig_nbformat": 4,
  "vscode": {
   "interpreter": {
    "hash": "aee8b7b246df8f9039afb4144a1f6fd8d2ca17a180786b69acc140d282b71a49"
   }
  }
 },
 "nbformat": 4,
 "nbformat_minor": 2
}
